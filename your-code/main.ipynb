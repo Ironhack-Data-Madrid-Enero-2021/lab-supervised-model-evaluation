{
 "cells": [
  {
   "cell_type": "markdown",
   "metadata": {
    "toc": true
   },
   "source": [
    "<h1>Table of Contents<span class=\"tocSkip\"></span></h1>\n",
    "<div class=\"toc\"><ul class=\"toc-item\"><li><span><a href=\"#Regression-Model-Evaluation\" data-toc-modified-id=\"Regression-Model-Evaluation-1\"><span class=\"toc-item-num\">1&nbsp;&nbsp;</span>Regression Model Evaluation</a></span></li><li><span><a href=\"#1.-Split-this-data-set-into-training-(80%)-and-testing-(20%)-sets.\" data-toc-modified-id=\"1.-Split-this-data-set-into-training-(80%)-and-testing-(20%)-sets.-2\"><span class=\"toc-item-num\">2&nbsp;&nbsp;</span>1. Split this data set into training (80%) and testing (20%) sets.</a></span></li><li><span><a href=\"#2.-Train-a-LinearRegression-model-on-this-data-set-and-generate-predictions-on-both-the-training-and-the-testing-set.\" data-toc-modified-id=\"2.-Train-a-LinearRegression-model-on-this-data-set-and-generate-predictions-on-both-the-training-and-the-testing-set.-3\"><span class=\"toc-item-num\">3&nbsp;&nbsp;</span>2. Train a <code>LinearRegression</code> model on this data set and generate predictions on both the training and the testing set.</a></span></li><li><span><a href=\"#3.-Calculate-and-print-R-squared-for-both-the-training-and-the-testing-set.\" data-toc-modified-id=\"3.-Calculate-and-print-R-squared-for-both-the-training-and-the-testing-set.-4\"><span class=\"toc-item-num\">4&nbsp;&nbsp;</span>3. Calculate and print R-squared for both the training and the testing set.</a></span></li><li><span><a href=\"#4.-Calculate-and-print-mean-squared-error-for-both-the-training-and-the-testing-set.\" data-toc-modified-id=\"4.-Calculate-and-print-mean-squared-error-for-both-the-training-and-the-testing-set.-5\"><span class=\"toc-item-num\">5&nbsp;&nbsp;</span>4. Calculate and print mean squared error for both the training and the testing set.</a></span></li><li><span><a href=\"#5.-Calculate-and-print-mean-absolute-error-for-both-the-training-and-the-testing-set.\" data-toc-modified-id=\"5.-Calculate-and-print-mean-absolute-error-for-both-the-training-and-the-testing-set.-6\"><span class=\"toc-item-num\">6&nbsp;&nbsp;</span>5. Calculate and print mean absolute error for both the training and the testing set.</a></span></li><li><span><a href=\"#Classification-Model-Evaluation\" data-toc-modified-id=\"Classification-Model-Evaluation-7\"><span class=\"toc-item-num\">7&nbsp;&nbsp;</span>Classification Model Evaluation</a></span></li><li><span><a href=\"#6.-Split-this-data-set-into-training-(80%)-and-testing-(20%)-sets.\" data-toc-modified-id=\"6.-Split-this-data-set-into-training-(80%)-and-testing-(20%)-sets.-8\"><span class=\"toc-item-num\">8&nbsp;&nbsp;</span>6. Split this data set into training (80%) and testing (20%) sets.</a></span></li><li><span><a href=\"#7.-Train-a-LogisticRegression-model-on-this-data-set-and-generate-predictions-on-both-the-training-and-the-testing-set.\" data-toc-modified-id=\"7.-Train-a-LogisticRegression-model-on-this-data-set-and-generate-predictions-on-both-the-training-and-the-testing-set.-9\"><span class=\"toc-item-num\">9&nbsp;&nbsp;</span>7. Train a <code>LogisticRegression</code> model on this data set and generate predictions on both the training and the testing set.</a></span></li><li><span><a href=\"#8.-Calculate-and-print-the-accuracy-score-for-both-the-training-and-the-testing-set.\" data-toc-modified-id=\"8.-Calculate-and-print-the-accuracy-score-for-both-the-training-and-the-testing-set.-10\"><span class=\"toc-item-num\">10&nbsp;&nbsp;</span>8. Calculate and print the accuracy score for both the training and the testing set.</a></span></li><li><span><a href=\"#9.-Calculate-and-print-the-balanced-accuracy-score-for-both-the-training-and-the-testing-set.\" data-toc-modified-id=\"9.-Calculate-and-print-the-balanced-accuracy-score-for-both-the-training-and-the-testing-set.-11\"><span class=\"toc-item-num\">11&nbsp;&nbsp;</span>9. Calculate and print the balanced accuracy score for both the training and the testing set.</a></span></li><li><span><a href=\"#10.-Calculate-and-print-the-precision-score-for-both-the-training-and-the-testing-set.\" data-toc-modified-id=\"10.-Calculate-and-print-the-precision-score-for-both-the-training-and-the-testing-set.-12\"><span class=\"toc-item-num\">12&nbsp;&nbsp;</span>10. Calculate and print the precision score for both the training and the testing set.</a></span></li><li><span><a href=\"#11.-Calculate-and-print-the-recall-score-for-both-the-training-and-the-testing-set.\" data-toc-modified-id=\"11.-Calculate-and-print-the-recall-score-for-both-the-training-and-the-testing-set.-13\"><span class=\"toc-item-num\">13&nbsp;&nbsp;</span>11. Calculate and print the recall score for both the training and the testing set.</a></span></li><li><span><a href=\"#12.-Calculate-and-print-the-F1-score-for-both-the-training-and-the-testing-set.\" data-toc-modified-id=\"12.-Calculate-and-print-the-F1-score-for-both-the-training-and-the-testing-set.-14\"><span class=\"toc-item-num\">14&nbsp;&nbsp;</span>12. Calculate and print the F1 score for both the training and the testing set.</a></span></li><li><span><a href=\"#13.-Generate-confusion-matrices-for-both-the-training-and-the-testing-set.\" data-toc-modified-id=\"13.-Generate-confusion-matrices-for-both-the-training-and-the-testing-set.-15\"><span class=\"toc-item-num\">15&nbsp;&nbsp;</span>13. Generate confusion matrices for both the training and the testing set.</a></span></li><li><span><a href=\"#Bonus:-For-each-of-the-data-sets-in-this-lab,-try-training-with-some-of-the-other-models-you-have-learned-about,-recalculate-the-evaluation-metrics,-and-compare-to-determine-which-models-perform-best-on-each-data-set.\" data-toc-modified-id=\"Bonus:-For-each-of-the-data-sets-in-this-lab,-try-training-with-some-of-the-other-models-you-have-learned-about,-recalculate-the-evaluation-metrics,-and-compare-to-determine-which-models-perform-best-on-each-data-set.-16\"><span class=\"toc-item-num\">16&nbsp;&nbsp;</span>Bonus: For each of the data sets in this lab, try training with some of the other models you have learned about, recalculate the evaluation metrics, and compare to determine which models perform best on each data set.</a></span></li></ul></div>"
   ]
  },
  {
   "cell_type": "markdown",
   "metadata": {},
   "source": [
    "# Supervised Learning Model Evaluation Lab\n",
    "\n",
    "Complete the exercises below to solidify your knowledge and understanding of supervised learning model evaluation."
   ]
  },
  {
   "cell_type": "code",
   "execution_count": 1,
   "metadata": {},
   "outputs": [],
   "source": [
    "import pandas as pd"
   ]
  },
  {
   "cell_type": "markdown",
   "metadata": {},
   "source": [
    "## Regression Model Evaluation"
   ]
  },
  {
   "cell_type": "code",
   "execution_count": 2,
   "metadata": {},
   "outputs": [],
   "source": [
    "from sklearn.datasets import load_boston\n",
    "\n",
    "data = load_boston()\n",
    "\n",
    "X = pd.DataFrame(data[\"data\"], columns=data[\"feature_names\"])\n",
    "y = pd.DataFrame(data[\"target\"], columns=['MEDV'])\n",
    "\n",
    "data = pd.concat([X, y], axis=1)"
   ]
  },
  {
   "cell_type": "markdown",
   "metadata": {},
   "source": [
    "## 1. Split this data set into training (80%) and testing (20%) sets.\n",
    "\n",
    "The `MEDV` field represents the median value of owner-occupied homes (in $1000's) and is the target variable that we will want to predict."
   ]
  },
  {
   "cell_type": "code",
   "execution_count": null,
   "metadata": {},
   "outputs": [],
   "source": []
  },
  {
   "cell_type": "markdown",
   "metadata": {},
   "source": [
    "## 2. Train a `LinearRegression` model on this data set and generate predictions on both the training and the testing set."
   ]
  },
  {
   "cell_type": "code",
   "execution_count": null,
   "metadata": {},
   "outputs": [],
   "source": []
  },
  {
   "cell_type": "markdown",
   "metadata": {},
   "source": [
    "## 3. Calculate and print R-squared for both the training and the testing set."
   ]
  },
  {
   "cell_type": "code",
   "execution_count": null,
   "metadata": {},
   "outputs": [],
   "source": []
  },
  {
   "cell_type": "markdown",
   "metadata": {},
   "source": [
    "## 4. Calculate and print mean squared error for both the training and the testing set."
   ]
  },
  {
   "cell_type": "code",
   "execution_count": null,
   "metadata": {},
   "outputs": [],
   "source": []
  },
  {
   "cell_type": "markdown",
   "metadata": {},
   "source": [
    "## 5. Calculate and print mean absolute error for both the training and the testing set."
   ]
  },
  {
   "cell_type": "code",
   "execution_count": null,
   "metadata": {},
   "outputs": [],
   "source": []
  },
  {
   "cell_type": "markdown",
   "metadata": {},
   "source": [
    "## Classification Model Evaluation"
   ]
  },
  {
   "cell_type": "code",
   "execution_count": null,
   "metadata": {},
   "outputs": [],
   "source": [
    "from sklearn.datasets import load_iris\n",
    "\n",
    "data = load_iris()\n",
    "\n",
    "X = pd.DataFrame(data[\"data\"], columns=data[\"feature_names\"])\n",
    "y = pd.DataFrame(data[\"target\"], columns=[\"class\"])\n",
    "\n",
    "data = pd.concat([X, y], axis=1)"
   ]
  },
  {
   "cell_type": "markdown",
   "metadata": {},
   "source": [
    "## 6. Split this data set into training (80%) and testing (20%) sets.\n",
    "\n",
    "The `class` field represents the type of flower and is the target variable that we will want to predict."
   ]
  },
  {
   "cell_type": "code",
   "execution_count": null,
   "metadata": {},
   "outputs": [],
   "source": []
  },
  {
   "cell_type": "markdown",
   "metadata": {},
   "source": [
    "## 7. Train a `LogisticRegression` model on this data set and generate predictions on both the training and the testing set."
   ]
  },
  {
   "cell_type": "code",
   "execution_count": null,
   "metadata": {},
   "outputs": [],
   "source": []
  },
  {
   "cell_type": "markdown",
   "metadata": {},
   "source": [
    "## 8. Calculate and print the accuracy score for both the training and the testing set."
   ]
  },
  {
   "cell_type": "code",
   "execution_count": null,
   "metadata": {},
   "outputs": [],
   "source": []
  },
  {
   "cell_type": "markdown",
   "metadata": {},
   "source": [
    "## 9. Calculate and print the balanced accuracy score for both the training and the testing set."
   ]
  },
  {
   "cell_type": "code",
   "execution_count": null,
   "metadata": {},
   "outputs": [],
   "source": []
  },
  {
   "cell_type": "markdown",
   "metadata": {},
   "source": [
    "## 10. Calculate and print the precision score for both the training and the testing set."
   ]
  },
  {
   "cell_type": "code",
   "execution_count": null,
   "metadata": {},
   "outputs": [],
   "source": []
  },
  {
   "cell_type": "markdown",
   "metadata": {},
   "source": [
    "## 11. Calculate and print the recall score for both the training and the testing set."
   ]
  },
  {
   "cell_type": "code",
   "execution_count": null,
   "metadata": {},
   "outputs": [],
   "source": []
  },
  {
   "cell_type": "markdown",
   "metadata": {},
   "source": [
    "## 12. Calculate and print the F1 score for both the training and the testing set."
   ]
  },
  {
   "cell_type": "code",
   "execution_count": null,
   "metadata": {},
   "outputs": [],
   "source": []
  },
  {
   "cell_type": "markdown",
   "metadata": {},
   "source": [
    "## 13. Generate confusion matrices for both the training and the testing set."
   ]
  },
  {
   "cell_type": "code",
   "execution_count": null,
   "metadata": {},
   "outputs": [],
   "source": []
  },
  {
   "cell_type": "code",
   "execution_count": null,
   "metadata": {},
   "outputs": [],
   "source": []
  },
  {
   "cell_type": "markdown",
   "metadata": {},
   "source": [
    "## Bonus: For each of the data sets in this lab, try training with some of the other models you have learned about, recalculate the evaluation metrics, and compare to determine which models perform best on each data set."
   ]
  }
 ],
 "metadata": {
  "kernelspec": {
   "display_name": "Python 3",
   "language": "python",
   "name": "python3"
  },
  "language_info": {
   "codemirror_mode": {
    "name": "ipython",
    "version": 3
   },
   "file_extension": ".py",
   "mimetype": "text/x-python",
   "name": "python",
   "nbconvert_exporter": "python",
   "pygments_lexer": "ipython3",
   "version": "3.8.5"
  },
  "toc": {
   "base_numbering": 1,
   "nav_menu": {},
   "number_sections": true,
   "sideBar": true,
   "skip_h1_title": true,
   "title_cell": "Table of Contents",
   "title_sidebar": "Contents",
   "toc_cell": true,
   "toc_position": {},
   "toc_section_display": true,
   "toc_window_display": false
  },
  "varInspector": {
   "cols": {
    "lenName": 16,
    "lenType": 16,
    "lenVar": 40
   },
   "kernels_config": {
    "python": {
     "delete_cmd_postfix": "",
     "delete_cmd_prefix": "del ",
     "library": "var_list.py",
     "varRefreshCmd": "print(var_dic_list())"
    },
    "r": {
     "delete_cmd_postfix": ") ",
     "delete_cmd_prefix": "rm(",
     "library": "var_list.r",
     "varRefreshCmd": "cat(var_dic_list()) "
    }
   },
   "types_to_exclude": [
    "module",
    "function",
    "builtin_function_or_method",
    "instance",
    "_Feature"
   ],
   "window_display": false
  }
 },
 "nbformat": 4,
 "nbformat_minor": 2
}
