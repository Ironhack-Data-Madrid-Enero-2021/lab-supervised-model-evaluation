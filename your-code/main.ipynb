{
 "cells": [
  {
   "cell_type": "markdown",
   "metadata": {},
   "source": [
    "# Supervised Learning Model Evaluation Lab\n",
    "\n",
    "Complete the exercises below to solidify your knowledge and understanding of supervised learning model evaluation."
   ]
  },
  {
   "cell_type": "code",
   "execution_count": 1,
   "metadata": {},
   "outputs": [],
   "source": [
    "import pandas as pd"
   ]
  },
  {
   "cell_type": "markdown",
   "metadata": {},
   "source": [
    "## Regression Model Evaluation"
   ]
  },
  {
   "cell_type": "code",
   "execution_count": 2,
   "metadata": {},
   "outputs": [],
   "source": [
    "from sklearn.datasets import load_boston\n",
    "\n",
    "data = load_boston()\n",
    "\n",
    "X = pd.DataFrame(data[\"data\"], columns=data[\"feature_names\"])\n",
    "y = pd.DataFrame(data[\"target\"], columns=['MEDV'])\n",
    "\n",
    "data = pd.concat([X, y], axis=1)"
   ]
  },
  {
   "cell_type": "markdown",
   "metadata": {},
   "source": [
    "## 1. Split this data set into training (80%) and testing (20%) sets.\n",
    "\n",
    "The `MEDV` field represents the median value of owner-occupied homes (in $1000's) and is the target variable that we will want to predict."
   ]
  },
  {
   "cell_type": "code",
   "execution_count": 3,
   "metadata": {},
   "outputs": [],
   "source": [
    "from sklearn.model_selection import train_test_split\n",
    "\n",
    "X_train, X_test, y_train, y_test = train_test_split(data.drop(columns='MEDV'), data.MEDV, test_size=0.2)"
   ]
  },
  {
   "cell_type": "markdown",
   "metadata": {},
   "source": [
    "## 2. Train a `LinearRegression` model on this data set and generate predictions on both the training and the testing set."
   ]
  },
  {
   "cell_type": "code",
   "execution_count": 4,
   "metadata": {},
   "outputs": [
    {
     "data": {
      "text/plain": [
       "LinearRegression()"
      ]
     },
     "execution_count": 4,
     "metadata": {},
     "output_type": "execute_result"
    }
   ],
   "source": [
    "from sklearn.linear_model import LinearRegression\n",
    "\n",
    "lr = LinearRegression()\n",
    "lr.fit(X_train, y_train)"
   ]
  },
  {
   "cell_type": "code",
   "execution_count": 5,
   "metadata": {},
   "outputs": [],
   "source": [
    "tr = lr.predict(X_train)\n",
    "te = lr.predict(X_test)"
   ]
  },
  {
   "cell_type": "code",
   "execution_count": 6,
   "metadata": {},
   "outputs": [
    {
     "data": {
      "text/plain": [
       "array([21.28677374, 19.41519103, 14.13075634, 11.91892047, 17.25616774,\n",
       "       13.77724279, 19.10606999, 25.77175816, 17.63480084, 32.26502738,\n",
       "       22.95033293, 25.49033554, 13.79953728, 18.43967484,  7.8813416 ,\n",
       "       15.9406266 , 20.6699954 , 21.14181406, 28.66029503, 20.86270381,\n",
       "       19.14421768, 10.99362665, 33.35024414, 15.17458049, 24.5823572 ,\n",
       "       15.604352  , 36.34915346, 18.67582617, 22.61818193,  7.94369889,\n",
       "       16.825203  , 16.61419949, 24.96142257,  9.99673795, 22.31402337,\n",
       "       22.0931757 , 15.67657178,  6.70021608, 14.71871511, 19.86822895,\n",
       "       20.30284614, 28.9698077 , 22.15165202, 14.14535953, 31.80266464,\n",
       "       16.92728737, 13.95338991, 17.85748783, 20.46572111, 23.89742059,\n",
       "       19.81213913, 27.58274903, 20.25417569, 30.68015477, 22.8865062 ,\n",
       "       21.28066934, 20.37192898, 18.77751536, 29.23985819, 28.32809519,\n",
       "       32.2061775 , 30.23348833, 18.67275474, 27.93052727, 34.45407834,\n",
       "       44.03074807, 20.10108054, 22.89275944, 30.9402286 , 18.9463146 ,\n",
       "       22.65109943, 13.49251359, 25.54468111, 18.93389059, 44.72734854,\n",
       "       26.00790839, 27.40605853, 21.78532142, 12.31529994, 24.66375147,\n",
       "       26.0348251 , 13.07977279, 13.60453312, 24.87709515, 39.79738377,\n",
       "       21.79037132, 18.54585293, 18.84771408,  9.06978512, 34.374567  ,\n",
       "       20.16047756, 33.36826106, 17.21245579, 22.10206763, 21.6202764 ,\n",
       "       22.07819919,  5.92578887, 19.41315007, 25.34007088, 14.05431783,\n",
       "       22.10183691, 27.78839598, 20.63000885, 21.27406411, 20.40690366,\n",
       "       24.78286227, 21.91835186, 30.5900658 , 24.49002315, 26.55673246,\n",
       "       25.49420205, 16.33784479, 25.63978121, 26.16854959, 23.80844788,\n",
       "       11.22941082, 30.77469596, 16.07661685, 27.40982304, 37.78197886,\n",
       "        6.07721542, 15.8816866 , 16.89979619, 34.43659932, 14.63917024,\n",
       "       20.75542396, 36.11755489, 25.67764541, 17.09245883, 19.62647056,\n",
       "       26.17346227, 18.12558526, 41.14287843, 28.83265832, 15.45686982,\n",
       "       24.45240231, 15.23281537, 15.61634641, 17.55585169, 29.46971787,\n",
       "       19.55894995, 19.16180467, 14.82146632, 17.58481585, 17.65239492,\n",
       "       10.21790087, 15.96881817, 23.3815349 , 31.6213354 , 31.19083807,\n",
       "       20.5247023 , 27.99857249, 18.02766325, 21.79986753, 39.24642556,\n",
       "       17.50666621, 34.61622029, 26.62548411, 33.47147738, 24.76590207,\n",
       "       14.14743634, 25.34209211, 15.44854342, 15.55094325, 17.66382211,\n",
       "       22.03612454, 22.94547511, 10.05558299, 20.83808953, 11.81693791,\n",
       "       19.70589858, 32.87867126, 31.94058979, 27.99635239, 23.80923787,\n",
       "       24.03034402, 23.00795232, 16.57274335, 20.63094926, 24.77878964,\n",
       "       24.261912  , 23.60925438, 31.46009077, 18.50643608, 24.45556883,\n",
       "       30.63879106, 19.06451231, 36.81345969, 15.88576439, 32.47394081,\n",
       "       19.70218094, 22.88862462,  6.13739313, 13.52946681, 25.66417646,\n",
       "       16.85998035, 21.57790826, 34.99987557, 38.01018041, 21.01265441,\n",
       "       25.48687157, 25.23954844, 38.1438013 , 14.08424942, 23.61356035,\n",
       "       28.89617994, 42.38503602, 20.84502674, 22.63963822, 16.21583641,\n",
       "       22.84909209, 21.01700076, 14.74006464, 32.15188607, 21.78108667,\n",
       "       24.99925508, 20.88462893, 21.57820677, 16.95854501, 28.42010626,\n",
       "       18.49018589, 23.47487168, 24.14234817, 19.71273465, 23.52181715,\n",
       "       16.62549394, 24.55810151, 28.50626596, 25.83424597, 23.27066087,\n",
       "       28.79168466, 24.43185259, 27.84587899, 21.50434559, 14.99852655,\n",
       "       18.80920522, 20.07587874, 13.10702268, 26.31696133, 15.34196433,\n",
       "       30.94550879, 36.11287892, 34.75405227, 17.6546655 , 13.82135036,\n",
       "       21.90780759, 30.77451308, 21.4762334 , 23.03703246, 21.9633618 ,\n",
       "       19.22863703, 27.18856791, 22.37311229, 18.05442409, 26.14956692,\n",
       "       35.60715767, 32.02501317, 20.77966893, 18.93453108, 17.29661766,\n",
       "       35.54256324,  5.51940594, 24.67614574, 11.78071345, 22.01345857,\n",
       "       25.20330614, 15.32579461, 13.18835769, 28.34066664, 27.15682883,\n",
       "       37.3430158 , 12.61694948, 27.1350222 , 24.88627189, 24.2575008 ,\n",
       "       12.94488249, 22.74871462, 31.40323998, 29.04415788, 22.39109074,\n",
       "       17.39193383, 35.7937173 , 18.09468961, 23.18912757, 24.39681243,\n",
       "       35.25172564, 21.58794248, 19.23759684, 41.62553997, 15.95288295,\n",
       "       33.13972004, 14.36236886, 21.98258814, 12.92351854, 13.79109964,\n",
       "        8.17456519,  9.90324101, 31.75847649, 19.03370449, 12.72577766,\n",
       "       12.46141632, 17.35436267, 24.91666156, 23.21071711, 27.61207928,\n",
       "       24.88132722, 28.24373749, 25.13796628, 18.71008573, 18.02426263,\n",
       "       21.85152168, 25.20113943, 18.11500928, 43.60226031, 11.36747745,\n",
       "       22.04498541, 10.23236838, 36.87474942, 23.92634887, 17.44655017,\n",
       "       22.15718295, 17.73437533,  3.96316886, 28.55108684, 15.60036746,\n",
       "       13.75459334, 34.15405753, 13.811606  ,  9.36396672, 17.91633529,\n",
       "       31.04991754, 16.06401026, 15.59325966, 18.04657513, 20.03749609,\n",
       "       16.05773796,  9.87486585, 12.76322221,  5.2854667 , 12.49746529,\n",
       "       19.93799179, 30.65296584, 17.83111203, 21.6890128 , 39.95328246,\n",
       "       41.62595291, 19.31179698, 38.23981397, 16.3640721 , 13.36720957,\n",
       "       27.82437775, 21.75273841, 33.15435618, 22.37733939, 28.31086898,\n",
       "       21.38116025, 15.55966741, 37.34526705, 17.26645055, 18.62807909,\n",
       "       16.83221845, 22.59315994, 12.63855033, 32.37096848, 22.98055973,\n",
       "       17.77880466,  7.81011668, 21.09911078,  0.16751427, 17.70898306,\n",
       "       24.02158137,  6.54652228, 27.66440007, -3.95077219, 13.87030444,\n",
       "       21.74457345, 28.94778144, 33.19262549, 12.62751986, 31.92414008,\n",
       "       22.58449301, 11.26257862, 18.07987882, 26.18799072, 24.55557277,\n",
       "       16.65255543, 30.97750449, 32.70584641, 24.805278  , 11.45684005,\n",
       "       18.2932618 , 32.807187  , 35.16373343, 25.68235499, 21.66651903,\n",
       "       31.8414975 , 17.32181758,  6.23065447, 18.03878831, 15.40131602,\n",
       "       19.87310306, 20.21560858, 36.23456932, 16.47828957])"
      ]
     },
     "execution_count": 6,
     "metadata": {},
     "output_type": "execute_result"
    }
   ],
   "source": [
    "tr"
   ]
  },
  {
   "cell_type": "code",
   "execution_count": 7,
   "metadata": {},
   "outputs": [
    {
     "data": {
      "text/plain": [
       "array([26.87430387, 35.81239143, 14.62385885,  1.1444347 , 25.59773222,\n",
       "       29.66591406, 28.2235367 , 21.34821813, 29.79694748, 15.3864638 ,\n",
       "        7.50425574, 21.31958462, 19.93326651, 12.53408475, 32.91393145,\n",
       "       10.51786162, 19.57665671, 16.20557934, 20.33691835, 30.21504197,\n",
       "       28.45091203, 27.96320046, 19.7760668 , 18.08342311, 20.04288859,\n",
       "       21.49887036, 27.1570363 , 17.40754519, 17.98444552, 20.20505343,\n",
       "       31.72346246, 13.52025257, 35.11493415, 18.27816323, 38.80385707,\n",
       "       19.4659419 ,  9.88509248, 24.62787307, 29.22744197, 23.93827974,\n",
       "       19.37780589, 34.68199864, 25.99129148, 36.9483954 , 28.27394616,\n",
       "       21.34404012, 16.90780272, 27.12286156, 34.47132385, 26.78103345,\n",
       "       33.35465876, 24.67734115, 24.70223522, 12.56841881, 19.55288134,\n",
       "        4.51967138, 23.75451286, 17.77940618, 25.76642836, 24.48390882,\n",
       "       31.07950751, 20.47096769, 21.71079617, 35.03495822, 41.40422579,\n",
       "       14.02816609, 28.95447483, 32.58777656, 16.9343486 , 20.30594313,\n",
       "       19.23438152, 22.16889239, 20.09577434, 26.18436295, 14.29632344,\n",
       "       39.52500226,  5.67204859, 29.26738336, 31.64043782, 30.38068963,\n",
       "       37.14708063, 33.63903511, 25.56920358, 21.24778113, 22.87897724,\n",
       "       35.02692531, 23.03482658, 30.14925846,  2.66217073, 22.56022937,\n",
       "       29.96021372, 16.65628276, 23.08877897, 33.03162588, 23.7389288 ,\n",
       "       18.98164886, 19.41715505, 25.16241164, 28.1536402 , 19.88481394,\n",
       "       19.70339202, 16.20742264])"
      ]
     },
     "execution_count": 7,
     "metadata": {},
     "output_type": "execute_result"
    }
   ],
   "source": [
    "te"
   ]
  },
  {
   "cell_type": "markdown",
   "metadata": {},
   "source": [
    "## 3. Calculate and print R-squared for both the training and the testing set."
   ]
  },
  {
   "cell_type": "code",
   "execution_count": 28,
   "metadata": {},
   "outputs": [
    {
     "name": "stdout",
     "output_type": "stream",
     "text": [
      "0.9499791579824927\n",
      "1.0\n"
     ]
    }
   ],
   "source": [
    "from sklearn.metrics import r2_score\n",
    "print(format(r2_score(y_train, tr)))\n",
    "print(format(r2_score(y_test, te)))"
   ]
  },
  {
   "cell_type": "markdown",
   "metadata": {},
   "source": [
    "## 4. Calculate and print mean squared error for both the training and the testing set."
   ]
  },
  {
   "cell_type": "code",
   "execution_count": 26,
   "metadata": {},
   "outputs": [],
   "source": [
    "from sklearn.metrics import mean_squared_error as mse"
   ]
  },
  {
   "cell_type": "code",
   "execution_count": 29,
   "metadata": {},
   "outputs": [
    {
     "name": "stdout",
     "output_type": "stream",
     "text": [
      "0.03333333333333333\n",
      "0.0\n"
     ]
    }
   ],
   "source": [
    "print(format(mse(y_train, tr)))\n",
    "print(format(mse(y_test, te)))"
   ]
  },
  {
   "cell_type": "markdown",
   "metadata": {},
   "source": [
    "## 5. Calculate and print mean absolute error for both the training and the testing set."
   ]
  },
  {
   "cell_type": "code",
   "execution_count": 10,
   "metadata": {},
   "outputs": [
    {
     "name": "stdout",
     "output_type": "stream",
     "text": [
      "2.926378725163431\n",
      "4.288531088123277\n"
     ]
    }
   ],
   "source": [
    "from sklearn.metrics import mean_absolute_error as mae\n",
    "print(format(mae(y_train, tr)))\n",
    "print(format(mae(y_test, te)))"
   ]
  },
  {
   "cell_type": "markdown",
   "metadata": {},
   "source": [
    "## Classification Model Evaluation"
   ]
  },
  {
   "cell_type": "code",
   "execution_count": 11,
   "metadata": {},
   "outputs": [],
   "source": [
    "from sklearn.datasets import load_iris\n",
    "\n",
    "data = load_iris()\n",
    "\n",
    "X = pd.DataFrame(data[\"data\"], columns=data[\"feature_names\"])\n",
    "y = pd.DataFrame(data[\"target\"], columns=[\"class\"])\n",
    "\n",
    "data = pd.concat([X, y], axis=1)"
   ]
  },
  {
   "cell_type": "code",
   "execution_count": 12,
   "metadata": {},
   "outputs": [
    {
     "data": {
      "text/html": [
       "<div>\n",
       "<style scoped>\n",
       "    .dataframe tbody tr th:only-of-type {\n",
       "        vertical-align: middle;\n",
       "    }\n",
       "\n",
       "    .dataframe tbody tr th {\n",
       "        vertical-align: top;\n",
       "    }\n",
       "\n",
       "    .dataframe thead th {\n",
       "        text-align: right;\n",
       "    }\n",
       "</style>\n",
       "<table border=\"1\" class=\"dataframe\">\n",
       "  <thead>\n",
       "    <tr style=\"text-align: right;\">\n",
       "      <th></th>\n",
       "      <th>sepal length (cm)</th>\n",
       "      <th>sepal width (cm)</th>\n",
       "      <th>petal length (cm)</th>\n",
       "      <th>petal width (cm)</th>\n",
       "      <th>class</th>\n",
       "    </tr>\n",
       "  </thead>\n",
       "  <tbody>\n",
       "    <tr>\n",
       "      <th>0</th>\n",
       "      <td>5.1</td>\n",
       "      <td>3.5</td>\n",
       "      <td>1.4</td>\n",
       "      <td>0.2</td>\n",
       "      <td>0</td>\n",
       "    </tr>\n",
       "    <tr>\n",
       "      <th>1</th>\n",
       "      <td>4.9</td>\n",
       "      <td>3.0</td>\n",
       "      <td>1.4</td>\n",
       "      <td>0.2</td>\n",
       "      <td>0</td>\n",
       "    </tr>\n",
       "    <tr>\n",
       "      <th>2</th>\n",
       "      <td>4.7</td>\n",
       "      <td>3.2</td>\n",
       "      <td>1.3</td>\n",
       "      <td>0.2</td>\n",
       "      <td>0</td>\n",
       "    </tr>\n",
       "    <tr>\n",
       "      <th>3</th>\n",
       "      <td>4.6</td>\n",
       "      <td>3.1</td>\n",
       "      <td>1.5</td>\n",
       "      <td>0.2</td>\n",
       "      <td>0</td>\n",
       "    </tr>\n",
       "    <tr>\n",
       "      <th>4</th>\n",
       "      <td>5.0</td>\n",
       "      <td>3.6</td>\n",
       "      <td>1.4</td>\n",
       "      <td>0.2</td>\n",
       "      <td>0</td>\n",
       "    </tr>\n",
       "  </tbody>\n",
       "</table>\n",
       "</div>"
      ],
      "text/plain": [
       "   sepal length (cm)  sepal width (cm)  petal length (cm)  petal width (cm)  \\\n",
       "0                5.1               3.5                1.4               0.2   \n",
       "1                4.9               3.0                1.4               0.2   \n",
       "2                4.7               3.2                1.3               0.2   \n",
       "3                4.6               3.1                1.5               0.2   \n",
       "4                5.0               3.6                1.4               0.2   \n",
       "\n",
       "   class  \n",
       "0      0  \n",
       "1      0  \n",
       "2      0  \n",
       "3      0  \n",
       "4      0  "
      ]
     },
     "execution_count": 12,
     "metadata": {},
     "output_type": "execute_result"
    }
   ],
   "source": [
    "data.head()"
   ]
  },
  {
   "cell_type": "markdown",
   "metadata": {},
   "source": [
    "## 6. Split this data set into training (80%) and testing (20%) sets.\n",
    "\n",
    "The `class` field represents the type of flower and is the target variable that we will want to predict."
   ]
  },
  {
   "cell_type": "code",
   "execution_count": 13,
   "metadata": {},
   "outputs": [],
   "source": [
    "X_train, X_test, y_train, y_test = train_test_split(X, y, test_size=0.2)"
   ]
  },
  {
   "cell_type": "markdown",
   "metadata": {},
   "source": [
    "## 7. Train a `LogisticRegression` model on this data set and generate predictions on both the training and the testing set."
   ]
  },
  {
   "cell_type": "code",
   "execution_count": 14,
   "metadata": {},
   "outputs": [
    {
     "name": "stderr",
     "output_type": "stream",
     "text": [
      "/Users/florengutierrez/miniconda3/lib/python3.8/site-packages/sklearn/utils/validation.py:63: DataConversionWarning: A column-vector y was passed when a 1d array was expected. Please change the shape of y to (n_samples, ), for example using ravel().\n",
      "  return f(*args, **kwargs)\n",
      "/Users/florengutierrez/miniconda3/lib/python3.8/site-packages/sklearn/linear_model/_logistic.py:763: ConvergenceWarning: lbfgs failed to converge (status=1):\n",
      "STOP: TOTAL NO. of ITERATIONS REACHED LIMIT.\n",
      "\n",
      "Increase the number of iterations (max_iter) or scale the data as shown in:\n",
      "    https://scikit-learn.org/stable/modules/preprocessing.html\n",
      "Please also refer to the documentation for alternative solver options:\n",
      "    https://scikit-learn.org/stable/modules/linear_model.html#logistic-regression\n",
      "  n_iter_i = _check_optimize_result(\n"
     ]
    },
    {
     "data": {
      "text/plain": [
       "LogisticRegression()"
      ]
     },
     "execution_count": 14,
     "metadata": {},
     "output_type": "execute_result"
    }
   ],
   "source": [
    "from sklearn.linear_model import LogisticRegression\n",
    "\n",
    "log = LogisticRegression()\n",
    "\n",
    "log.fit(X_train, y_train)"
   ]
  },
  {
   "cell_type": "code",
   "execution_count": 15,
   "metadata": {},
   "outputs": [
    {
     "data": {
      "text/plain": [
       "array([2, 0, 1, 0, 1, 2, 0, 1, 0, 0, 2, 2, 1, 1, 1, 2, 1, 0, 2, 1, 1, 2,\n",
       "       1, 2, 0, 1, 0, 1, 2, 2, 0, 0, 2, 1, 1, 0, 1, 2, 2, 1, 0, 0, 2, 2,\n",
       "       1, 0, 2, 2, 1, 0, 0, 0, 0, 2, 2, 2, 2, 1, 0, 0, 0, 2, 2, 1, 1, 2,\n",
       "       2, 0, 2, 0, 2, 2, 1, 1, 2, 2, 1, 2, 1, 2, 0, 1, 1, 1, 1, 0, 0, 1,\n",
       "       2, 0, 0, 2, 1, 1, 2, 0, 0, 2, 0, 0, 2, 0, 0, 0, 1, 2, 1, 2, 2, 2,\n",
       "       1, 2, 0, 0, 2, 0, 1, 1, 1, 0])"
      ]
     },
     "execution_count": 15,
     "metadata": {},
     "output_type": "execute_result"
    }
   ],
   "source": [
    "tr = log.predict(X_train)\n",
    "te = log.predict(X_test)\n",
    "tr"
   ]
  },
  {
   "cell_type": "code",
   "execution_count": 16,
   "metadata": {},
   "outputs": [
    {
     "data": {
      "text/plain": [
       "array([2, 1, 2, 0, 0, 1, 2, 0, 1, 2, 0, 0, 1, 0, 2, 0, 0, 0, 2, 2, 1, 2,\n",
       "       0, 1, 1, 1, 1, 1, 2, 0])"
      ]
     },
     "execution_count": 16,
     "metadata": {},
     "output_type": "execute_result"
    }
   ],
   "source": [
    "te"
   ]
  },
  {
   "cell_type": "markdown",
   "metadata": {},
   "source": [
    "## 8. Calculate and print the accuracy score for both the training and the testing set."
   ]
  },
  {
   "cell_type": "code",
   "execution_count": 17,
   "metadata": {},
   "outputs": [
    {
     "name": "stdout",
     "output_type": "stream",
     "text": [
      "0.9666666666666667\n",
      "1.0\n"
     ]
    }
   ],
   "source": [
    "from sklearn.metrics import accuracy_score\n",
    "\n",
    "print(format(accuracy_score(y_train, tr)))\n",
    "print(format(accuracy_score(y_test, te)))"
   ]
  },
  {
   "cell_type": "markdown",
   "metadata": {},
   "source": [
    "## 9. Calculate and print the balanced accuracy score for both the training and the testing set."
   ]
  },
  {
   "cell_type": "code",
   "execution_count": 18,
   "metadata": {},
   "outputs": [
    {
     "name": "stdout",
     "output_type": "stream",
     "text": [
      "0.9668699186991869\n",
      "1.0\n"
     ]
    }
   ],
   "source": [
    "from sklearn.metrics import balanced_accuracy_score\n",
    "\n",
    "print(format(balanced_accuracy_score(y_train, tr)))\n",
    "print(format(balanced_accuracy_score(y_test, te)))"
   ]
  },
  {
   "cell_type": "markdown",
   "metadata": {},
   "source": [
    "## 10. Calculate and print the precision score for both the training and the testing set."
   ]
  },
  {
   "cell_type": "code",
   "execution_count": 19,
   "metadata": {},
   "outputs": [
    {
     "name": "stdout",
     "output_type": "stream",
     "text": [
      "0.967390860873113\n",
      "1.0\n"
     ]
    }
   ],
   "source": [
    "from sklearn.metrics import precision_score #Please choose another average setting, one of [None, 'micro', 'macro', 'weighted'].\n",
    "\n",
    "\n",
    "print(format(precision_score(y_train, tr,average=\"weighted\")))\n",
    "print(format(precision_score(y_test, te,average=\"weighted\")))"
   ]
  },
  {
   "cell_type": "markdown",
   "metadata": {},
   "source": [
    "## 11. Calculate and print the recall score for both the training and the testing set."
   ]
  },
  {
   "cell_type": "code",
   "execution_count": 20,
   "metadata": {},
   "outputs": [
    {
     "name": "stdout",
     "output_type": "stream",
     "text": [
      "0.9666666666666667\n",
      "1.0\n"
     ]
    }
   ],
   "source": [
    "from sklearn.metrics import recall_score\n",
    "\n",
    "print(format(recall_score(y_train, tr,average=\"weighted\")))\n",
    "print(format(recall_score(y_test, te,average=\"weighted\")))"
   ]
  },
  {
   "cell_type": "markdown",
   "metadata": {},
   "source": [
    "## 12. Calculate and print the F1 score for both the training and the testing set."
   ]
  },
  {
   "cell_type": "code",
   "execution_count": 30,
   "metadata": {},
   "outputs": [
    {
     "name": "stdout",
     "output_type": "stream",
     "text": [
      "0.9666361416361418\n",
      "1.0\n"
     ]
    }
   ],
   "source": [
    "from sklearn.metrics import f1_score\n",
    "\n",
    "print(format(f1_score(y_train, tr,average=\"weighted\")))\n",
    "print(format(f1_score(y_test, te,average=\"weighted\")))"
   ]
  },
  {
   "cell_type": "markdown",
   "metadata": {},
   "source": [
    "## 13. Generate confusion matrices for both the training and the testing set."
   ]
  },
  {
   "cell_type": "code",
   "execution_count": 42,
   "metadata": {},
   "outputs": [
    {
     "name": "stdout",
     "output_type": "stream",
     "text": [
      "[[39  0  0]\n",
      " [ 0 37  3]\n",
      " [ 0  1 40]]\n",
      "[[11  0  0]\n",
      " [ 0 10  0]\n",
      " [ 0  0  9]]\n"
     ]
    }
   ],
   "source": [
    "from sklearn.metrics import confusion_matrix\n",
    "\n",
    "print(format(confusion_matrix(y_train, tr)))\n",
    "print(format(confusion_matrix(y_test, te)))"
   ]
  },
  {
   "cell_type": "markdown",
   "metadata": {},
   "source": [
    "## Bonus: For each of the data sets in this lab, try training with some of the other models you have learned about, recalculate the evaluation metrics, and compare to determine which models perform best on each data set."
   ]
  }
 ],
 "metadata": {
  "kernelspec": {
   "display_name": "Python 3",
   "language": "python",
   "name": "python3"
  },
  "language_info": {
   "codemirror_mode": {
    "name": "ipython",
    "version": 3
   },
   "file_extension": ".py",
   "mimetype": "text/x-python",
   "name": "python",
   "nbconvert_exporter": "python",
   "pygments_lexer": "ipython3",
   "version": "3.8.5"
  }
 },
 "nbformat": 4,
 "nbformat_minor": 2
}
